{
  "cells": [
    {
      "cell_type": "markdown",
      "source": [
        "**Importing all required libraries**"
      ],
      "metadata": {
        "id": "JxyDrZF6bbrt"
      }
    },
    {
      "cell_type": "code",
      "execution_count": null,
      "metadata": {
        "id": "qh5wh9H1PHnI"
      },
      "outputs": [],
      "source": [
        "from sklearn import datasets\n",
        "import matplotlib.pyplot as plt\n",
        "import numpy as  np\n",
        "from sklearn.model_selection import train_test_split\n",
        "from sklearn import svm\n",
        "from sklearn import metrics\n",
        "from sklearn.metrics import confusion_matrix\n",
        "import seaborn as sns\n",
        "%matplotlib inline"
      ]
    },
    {
      "cell_type": "markdown",
      "source": [
        "**Importing the dataset**\n",
        "\n",
        "scikit-learn comes with several test datasets that are useful for testing many problems of data analysis and prediction of the results. Let's load the handwritten digits dataset."
      ],
      "metadata": {
        "id": "9fDi9DfSbfJu"
      }
    },
    {
      "cell_type": "code",
      "execution_count": null,
      "metadata": {
        "id": "2pqg-mQ5PYj2"
      },
      "outputs": [],
      "source": [
        "df = datasets.load_digits()\n"
      ]
    },
    {
      "cell_type": "markdown",
      "source": [
        "**Exploring digit dataset**"
      ],
      "metadata": {
        "id": "TvovS_BaTLYg"
      }
    },
    {
      "cell_type": "markdown",
      "source": [
        "dir() is a powerful inbuilt function in Python3, which returns list of the attributes and methods of any object"
      ],
      "metadata": {
        "id": "1Q84_80zOeq0"
      }
    },
    {
      "cell_type": "code",
      "source": [
        "dir(df)"
      ],
      "metadata": {
        "colab": {
          "base_uri": "https://localhost:8080/"
        },
        "id": "hR44LDLHOnjw",
        "outputId": "e0def536-93e3-4777-b12d-8a5119fb7703"
      },
      "execution_count": null,
      "outputs": [
        {
          "output_type": "execute_result",
          "data": {
            "text/plain": [
              "['DESCR', 'data', 'feature_names', 'frame', 'images', 'target', 'target_names']"
            ]
          },
          "metadata": {},
          "execution_count": 3
        }
      ]
    },
    {
      "cell_type": "markdown",
      "source": [
        "Lets read datatest description. We get more information related to our dataset by using DESCR method of dataset."
      ],
      "metadata": {
        "id": "vd7Tbot7OsDP"
      }
    },
    {
      "cell_type": "code",
      "execution_count": null,
      "metadata": {
        "colab": {
          "base_uri": "https://localhost:8080/"
        },
        "id": "XVDc7EaEEpHq",
        "outputId": "826f3b40-147c-415b-8ddf-ac43ebd190fd"
      },
      "outputs": [
        {
          "output_type": "stream",
          "name": "stdout",
          "text": [
            ".. _digits_dataset:\n",
            "\n",
            "Optical recognition of handwritten digits dataset\n",
            "--------------------------------------------------\n",
            "\n",
            "**Data Set Characteristics:**\n",
            "\n",
            "    :Number of Instances: 1797\n",
            "    :Number of Attributes: 64\n",
            "    :Attribute Information: 8x8 image of integer pixels in the range 0..16.\n",
            "    :Missing Attribute Values: None\n",
            "    :Creator: E. Alpaydin (alpaydin '@' boun.edu.tr)\n",
            "    :Date: July; 1998\n",
            "\n",
            "This is a copy of the test set of the UCI ML hand-written digits datasets\n",
            "https://archive.ics.uci.edu/ml/datasets/Optical+Recognition+of+Handwritten+Digits\n",
            "\n",
            "The data set contains images of hand-written digits: 10 classes where\n",
            "each class refers to a digit.\n",
            "\n",
            "Preprocessing programs made available by NIST were used to extract\n",
            "normalized bitmaps of handwritten digits from a preprinted form. From a\n",
            "total of 43 people, 30 contributed to the training set and different 13\n",
            "to the test set. 32x32 bitmaps are divided into nonoverlapping blocks of\n",
            "4x4 and the number of on pixels are counted in each block. This generates\n",
            "an input matrix of 8x8 where each element is an integer in the range\n",
            "0..16. This reduces dimensionality and gives invariance to small\n",
            "distortions.\n",
            "\n",
            "For info on NIST preprocessing routines, see M. D. Garris, J. L. Blue, G.\n",
            "T. Candela, D. L. Dimmick, J. Geist, P. J. Grother, S. A. Janet, and C.\n",
            "L. Wilson, NIST Form-Based Handprint Recognition System, NISTIR 5469,\n",
            "1994.\n",
            "\n",
            ".. topic:: References\n",
            "\n",
            "  - C. Kaynak (1995) Methods of Combining Multiple Classifiers and Their\n",
            "    Applications to Handwritten Digit Recognition, MSc Thesis, Institute of\n",
            "    Graduate Studies in Science and Engineering, Bogazici University.\n",
            "  - E. Alpaydin, C. Kaynak (1998) Cascading Classifiers, Kybernetika.\n",
            "  - Ken Tang and Ponnuthurai N. Suganthan and Xi Yao and A. Kai Qin.\n",
            "    Linear dimensionalityreduction using relevance weighted LDA. School of\n",
            "    Electrical and Electronic Engineering Nanyang Technological University.\n",
            "    2005.\n",
            "  - Claudio Gentile. A New Approximate Maximal Margin Classification\n",
            "    Algorithm. NIPS. 2000.\n",
            "\n"
          ]
        }
      ],
      "source": [
        "print(df['DESCR'])"
      ]
    },
    {
      "cell_type": "markdown",
      "source": [
        "**Analyzing the dataset**"
      ],
      "metadata": {
        "id": "svGaMBOfTuvD"
      }
    },
    {
      "cell_type": "markdown",
      "source": [
        "The images of the handwritten digits are contained in a df.images array with 3 dimensions. The first dimension indexes images, and we see that we have 1797 images in total. The next two dimensions correspond to the x and y coordinates of the pixels in each image. Each image has 8x8 = 64 pixels."
      ],
      "metadata": {
        "id": "wjzDD5TNPK6q"
      }
    },
    {
      "cell_type": "code",
      "execution_count": null,
      "metadata": {
        "colab": {
          "base_uri": "https://localhost:8080/"
        },
        "id": "kiyQ1NoM9-pZ",
        "outputId": "55b55b22-917c-4a23-b361-a260e7a15ee4"
      },
      "outputs": [
        {
          "output_type": "stream",
          "name": "stdout",
          "text": [
            "[[[ 0.  0.  5. ...  1.  0.  0.]\n",
            "  [ 0.  0. 13. ... 15.  5.  0.]\n",
            "  [ 0.  3. 15. ... 11.  8.  0.]\n",
            "  ...\n",
            "  [ 0.  4. 11. ... 12.  7.  0.]\n",
            "  [ 0.  2. 14. ... 12.  0.  0.]\n",
            "  [ 0.  0.  6. ...  0.  0.  0.]]\n",
            "\n",
            " [[ 0.  0.  0. ...  5.  0.  0.]\n",
            "  [ 0.  0.  0. ...  9.  0.  0.]\n",
            "  [ 0.  0.  3. ...  6.  0.  0.]\n",
            "  ...\n",
            "  [ 0.  0.  1. ...  6.  0.  0.]\n",
            "  [ 0.  0.  1. ...  6.  0.  0.]\n",
            "  [ 0.  0.  0. ... 10.  0.  0.]]\n",
            "\n",
            " [[ 0.  0.  0. ... 12.  0.  0.]\n",
            "  [ 0.  0.  3. ... 14.  0.  0.]\n",
            "  [ 0.  0.  8. ... 16.  0.  0.]\n",
            "  ...\n",
            "  [ 0.  9. 16. ...  0.  0.  0.]\n",
            "  [ 0.  3. 13. ... 11.  5.  0.]\n",
            "  [ 0.  0.  0. ... 16.  9.  0.]]\n",
            "\n",
            " ...\n",
            "\n",
            " [[ 0.  0.  1. ...  1.  0.  0.]\n",
            "  [ 0.  0. 13. ...  2.  1.  0.]\n",
            "  [ 0.  0. 16. ... 16.  5.  0.]\n",
            "  ...\n",
            "  [ 0.  0. 16. ... 15.  0.  0.]\n",
            "  [ 0.  0. 15. ... 16.  0.  0.]\n",
            "  [ 0.  0.  2. ...  6.  0.  0.]]\n",
            "\n",
            " [[ 0.  0.  2. ...  0.  0.  0.]\n",
            "  [ 0.  0. 14. ... 15.  1.  0.]\n",
            "  [ 0.  4. 16. ... 16.  7.  0.]\n",
            "  ...\n",
            "  [ 0.  0.  0. ... 16.  2.  0.]\n",
            "  [ 0.  0.  4. ... 16.  2.  0.]\n",
            "  [ 0.  0.  5. ... 12.  0.  0.]]\n",
            "\n",
            " [[ 0.  0. 10. ...  1.  0.  0.]\n",
            "  [ 0.  2. 16. ...  1.  0.  0.]\n",
            "  [ 0.  0. 15. ... 15.  0.  0.]\n",
            "  ...\n",
            "  [ 0.  4. 16. ... 16.  6.  0.]\n",
            "  [ 0.  8. 16. ... 16.  8.  0.]\n",
            "  [ 0.  1.  8. ... 12.  1.  0.]]]\n"
          ]
        }
      ],
      "source": [
        "#examining image data\n",
        "print(df.images)"
      ]
    },
    {
      "cell_type": "code",
      "source": [
        "# Dimension of original image data\n",
        "print(df.images.shape)"
      ],
      "metadata": {
        "colab": {
          "base_uri": "https://localhost:8080/"
        },
        "id": "PA8qFoDk0Z0O",
        "outputId": "82812759-60e3-4c59-a814-a356cb7717f8"
      },
      "execution_count": null,
      "outputs": [
        {
          "output_type": "stream",
          "name": "stdout",
          "text": [
            "(1797, 8, 8)\n"
          ]
        }
      ]
    },
    {
      "cell_type": "markdown",
      "source": [
        "Now let's investigate the target attribute. The numerical values represented by images, i.e., the targets, are contained in the df.targets array. It is a 1-dimensional array "
      ],
      "metadata": {
        "id": "WvQTtF3TPgcn"
      }
    },
    {
      "cell_type": "code",
      "execution_count": null,
      "metadata": {
        "id": "IUjBLClv9-mA",
        "colab": {
          "base_uri": "https://localhost:8080/"
        },
        "outputId": "05745563-16cb-4549-ff3e-b1b9aaa5854d"
      },
      "outputs": [
        {
          "output_type": "stream",
          "name": "stdout",
          "text": [
            "[0 1 2 ... 8 9 8]\n"
          ]
        }
      ],
      "source": [
        "#Examinig the labels\n",
        "print(df.target)"
      ]
    },
    {
      "cell_type": "code",
      "source": [
        "print(df.target.shape)"
      ],
      "metadata": {
        "colab": {
          "base_uri": "https://localhost:8080/"
        },
        "id": "gywoWznZ0Zwq",
        "outputId": "d58c590c-6c67-487f-c837-7404d8e84041"
      },
      "execution_count": null,
      "outputs": [
        {
          "output_type": "stream",
          "name": "stdout",
          "text": [
            "(1797,)\n"
          ]
        }
      ]
    },
    {
      "cell_type": "markdown",
      "source": [
        "We have 1797 labels for our target that contains values from 0 to 9."
      ],
      "metadata": {
        "id": "rdTXxndjPiJ2"
      }
    },
    {
      "cell_type": "markdown",
      "source": [
        "Each image is represented by an 8x8 matrix of numerical values that correspond to a grayscale from white, with a value of 0, to black, with the value 15. let's look at the data of the 576th 8x8 image."
      ],
      "metadata": {
        "id": "NUsTwyLeP5t3"
      }
    },
    {
      "cell_type": "code",
      "execution_count": null,
      "metadata": {
        "id": "ioIiGsgn9-jm",
        "colab": {
          "base_uri": "https://localhost:8080/",
          "height": 394
        },
        "outputId": "0d3be728-7c1a-4d7c-9924-10ee91aed79b"
      },
      "outputs": [
        {
          "output_type": "stream",
          "name": "stdout",
          "text": [
            "[[ 0.  0.  4. 12. 16. 14.  7.  0.]\n",
            " [ 0.  2. 16.  6.  0.  7. 12.  0.]\n",
            " [ 0.  0.  7.  0.  3. 13.  3.  0.]\n",
            " [ 0.  0.  0.  1. 16.  6.  0.  0.]\n",
            " [ 0.  0.  0.  0.  9. 12.  0.  0.]\n",
            " [ 0.  0.  2.  0.  0. 13.  5.  0.]\n",
            " [ 0.  3. 16.  7.  1. 12.  4.  0.]\n",
            " [ 0.  0.  3. 12. 16. 15.  2.  0.]]\n"
          ]
        },
        {
          "output_type": "display_data",
          "data": {
            "text/plain": [
              "<Figure size 432x288 with 1 Axes>"
            ],
            "image/png": "[encoded data removed]"
          },
          "metadata": {
            "needs_background": "light"
          }
        }
      ],
      "source": [
        "#visualizing random image in the dataset\n",
        "\n",
        "#matrix representation of an image\n",
        "print(df.images[576])\n",
        "\n",
        "#visual representation of an image\n",
        "plt.imshow(df.images[576])\n",
        "plt.gray()\n",
        "plt.axis('off')\n",
        "plt.show()"
      ]
    },
    {
      "cell_type": "markdown",
      "source": [
        "We got the grayscale image of one of the 1,797 handwritten digits.\n",
        "\n",
        "The image is low resolution. The original digits were of much higher resolution, and the resolution has been decreased when creating the dataset for scikit-learn to make it easier and faster to train a machine learning algorithm to recognize these digits.\n"
      ],
      "metadata": {
        "id": "ARcMqp0IQEkH"
      }
    },
    {
      "cell_type": "markdown",
      "source": [
        "**Visualization of digits**\n",
        "\n",
        "As discussed, the images attribute of the dataset stores 8x8 arrays of grayscale values for each image. We will use these arrays to visualize the first 10 images"
      ],
      "metadata": {
        "id": "N1DcYtQZQMFW"
      }
    },
    {
      "cell_type": "code",
      "execution_count": null,
      "metadata": {
        "id": "MZqiATco9-hB",
        "colab": {
          "base_uri": "https://localhost:8080/",
          "height": 223
        },
        "outputId": "de91d321-414e-420c-884e-d52f6b8765a3"
      },
      "outputs": [
        {
          "output_type": "display_data",
          "data": {
            "text/plain": [
              "<Figure size 432x288 with 10 Axes>"
            ],
            "image/png": "[encoded data removed]"
          },
          "metadata": {
            "needs_background": "light"
          }
        }
      ],
      "source": [
        "#visualing some images and labels in the dataset\n",
        "for i in range(10):\n",
        "  plt.subplot(2,5,i+1)\n",
        "  plt.imshow(df.images[i])\n",
        "  plt.axis('off')\n",
        "  plt.title('Image ' + str(df.target[i]))\n",
        "plt.show()"
      ]
    },
    {
      "cell_type": "markdown",
      "source": [
        "Our next step is to divide the data into “attributes” and “labels”. X variable contains all the attributes/features and y variable contains labels. let's define X and y. The inputs are 8x8 grayscale images. To apply a classifier, it requires a 1-dimensional array in input, but our images are 2D. So we need to flatten all images\n",
        "\n"
      ],
      "metadata": {
        "id": "AiCASr7qQSDk"
      }
    },
    {
      "cell_type": "code",
      "execution_count": null,
      "metadata": {
        "id": "CM_lZA-t9-eV"
      },
      "outputs": [],
      "source": [
        "X = np.reshape(df.images,(1797,64))\n",
        "y = df.target"
      ]
    },
    {
      "cell_type": "code",
      "execution_count": null,
      "metadata": {
        "id": "g_OD4AV79-bk",
        "colab": {
          "base_uri": "https://localhost:8080/"
        },
        "outputId": "dfee76dc-c128-4e43-a5e0-80d757bb8272"
      },
      "outputs": [
        {
          "output_type": "stream",
          "name": "stdout",
          "text": [
            "(1797, 64)\n"
          ]
        }
      ],
      "source": [
        "# Dimension of reshaped data\n",
        "print(X.shape)"
      ]
    },
    {
      "cell_type": "markdown",
      "source": [
        "We now have 1797 flattened images. The two dimensions of our 8x8 images have been collapsed into a single dimension of shape (64,)"
      ],
      "metadata": {
        "id": "1y21FmF8QdWG"
      }
    },
    {
      "cell_type": "markdown",
      "source": [
        "**Data splitting**\n",
        "\n",
        "Splitting our Dataset into training and testing sets.\n",
        "\n",
        "Here, we are using 75% of data in datasets for training our model and rest 25% for testing our model."
      ],
      "metadata": {
        "id": "lpLaZlJ2Qkpo"
      }
    },
    {
      "cell_type": "code",
      "source": [
        "X_train,X_test,y_train,y_test = train_test_split(X,y,test_size=0.2,random_state=42)"
      ],
      "metadata": {
        "id": "acXpmXJ3JK4l"
      },
      "execution_count": null,
      "outputs": []
    },
    {
      "cell_type": "markdown",
      "source": [
        "**Defining the model**\n",
        "\n",
        "now, we will use the support vector classification for the prediction purpose. we create an estimator of SVC type and then choose an initial setting, assigning the values C and gamma generic values."
      ],
      "metadata": {
        "id": "oJjt3P8IQq_O"
      }
    },
    {
      "cell_type": "code",
      "source": [
        "svc = svm.SVC(gamma=0.001,C=100)"
      ],
      "metadata": {
        "id": "Kd-XokhAJKmY"
      },
      "execution_count": null,
      "outputs": []
    },
    {
      "cell_type": "markdown",
      "source": [
        "once we have defined a predictive model, we must instruct it with a training set"
      ],
      "metadata": {
        "id": "XoEaVQj3Qstg"
      }
    },
    {
      "cell_type": "markdown",
      "source": [
        "**Training the model**\n",
        "\n",
        "Now we can train the svc estimator that we have defined earlier on the training data."
      ],
      "metadata": {
        "id": "bMLwtH89Q4hR"
      }
    },
    {
      "cell_type": "code",
      "source": [
        "svc.fit(X_train,y_train)"
      ],
      "metadata": {
        "colab": {
          "base_uri": "https://localhost:8080/"
        },
        "id": "7fNjcikBJKc1",
        "outputId": "a646c2c3-bcd9-492a-d143-004ed926c5a6"
      },
      "execution_count": null,
      "outputs": [
        {
          "output_type": "execute_result",
          "data": {
            "text/plain": [
              "SVC(C=100, gamma=0.001)"
            ]
          },
          "metadata": {},
          "execution_count": 15
        }
      ]
    },
    {
      "cell_type": "markdown",
      "source": [
        "**Test the model**\n",
        "\n",
        "we can test our estimator by making it interpret the digits of the test set using predict() function."
      ],
      "metadata": {
        "id": "o8mMqA0hQ-wN"
      }
    },
    {
      "cell_type": "code",
      "source": [
        "y_pred = svc.predict(X_test)"
      ],
      "metadata": {
        "id": "ciKHx7wrJKUb"
      },
      "execution_count": null,
      "outputs": []
    },
    {
      "cell_type": "markdown",
      "source": [
        "**Evaluation of model performance**"
      ],
      "metadata": {
        "id": "dHXs8EgxRHy1"
      }
    },
    {
      "cell_type": "markdown",
      "source": [
        "*Confusion matrix* :\n",
        "\n",
        "We can plot a confusion matrix of the true digit values and the predicted digit values. This gives us a holistic view of how well our classification model is performing and what kinds of errors it is making."
      ],
      "metadata": {
        "id": "QLFo0Q1GRQvQ"
      }
    },
    {
      "cell_type": "code",
      "source": [
        "cm  = confusion_matrix(y_test,y_pred)\n",
        "plt.figure(figsize = (8,5))\n",
        "sns.heatmap(cm,annot=True)\n",
        "plt.xlabel(\"predicted value\")\n",
        "plt.ylabel(\"Actual value\")\n",
        "plt.show()"
      ],
      "metadata": {
        "colab": {
          "base_uri": "https://localhost:8080/",
          "height": 334
        },
        "id": "Vo2sC_ggJKHn",
        "outputId": "b00a694a-3d0f-4286-a829-b96b7379e8bd"
      },
      "execution_count": null,
      "outputs": [
        {
          "output_type": "display_data",
          "data": {
            "text/plain": [
              "<Figure size 576x360 with 2 Axes>"
            ],
            "image/png": "[encoded data removed]"
          },
          "metadata": {
            "needs_background": "light"
          }
        }
      ]
    },
    {
      "cell_type": "markdown",
      "source": [
        "*Checking score (Find Accuracy)* :\n",
        "\n",
        "We can compute the accuracy of the classifier, which the probability for a digit to be classified in the right category. Again, scikit-learn comes with a handy tool to do that:"
      ],
      "metadata": {
        "id": "5_iJgUm7RXm2"
      }
    },
    {
      "cell_type": "code",
      "source": [
        "MAE = metrics.mean_absolute_error(y_pred,y_test)\n",
        "print(\"Mean Absolute Error: \",MAE)\n",
        "\n",
        "score = svc.score(X_test,y_test)\n",
        "print(\"score: \",score)"
      ],
      "metadata": {
        "colab": {
          "base_uri": "https://localhost:8080/"
        },
        "id": "kQeibVWNJKK_",
        "outputId": "db6fb8e5-f68e-42eb-eb13-66b2e1637f4a"
      },
      "execution_count": null,
      "outputs": [
        {
          "output_type": "stream",
          "name": "stdout",
          "text": [
            "Mean Absolute Error:  0.019444444444444445\n",
            "score:  0.9888888888888889\n"
          ]
        }
      ]
    },
    {
      "cell_type": "markdown",
      "source": [
        "***Conclusion***"
      ],
      "metadata": {
        "id": "v6CvkZz-RcSx"
      }
    },
    {
      "cell_type": "markdown",
      "source": [
        "Our model has an accuracy of around 98% which is quite good. We can see that the svc estimator has learned correctly. It is able to recognize the handwritten digits. Hence can say that so the NULL hypothesis provided in the problem statement holds True."
      ],
      "metadata": {
        "id": "cGT0Aac4RkU3"
      }
    }
  ],
  "metadata": {
    "colab": {
      "provenance": [],
      "collapsed_sections": []
    },
    "kernelspec": {
      "display_name": "Python 3",
      "name": "python3"
    },
    "language_info": {
      "name": "python"
    }
  },
  "nbformat": 4,
  "nbformat_minor": 0
}